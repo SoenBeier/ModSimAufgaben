{
 "cells": [
  {
   "cell_type": "markdown",
   "metadata": {},
   "source": [
    "## Simulation und Modellierung WS 17/18 Uebung 07 : \n",
    "### Methode der kleinsten quadratischen Abweichungen"
   ]
  },
  {
   "cell_type": "markdown",
   "metadata": {},
   "source": [
    "### <u>Aufgabe 1</u>"
   ]
  },
  {
   "cell_type": "markdown",
   "metadata": {},
   "source": [
    "Fuer die Koordinaten $(x,y)$ eines beliebiegen Kegelschnittes in der Ebene gilt\n",
    "\n",
    "$$\n",
    "        f(x,y) = A x^2 + B xy + C y^2 + D x + E y = 1\n",
    "$$\n",
    "\n",
    "Die Datei `orbit.dat` enthaelt eine Tabelle von $x$ und $y$ Werten, welche messfehlerbehaftete Punkte eines Kegelschnittes sind. \n",
    "\n",
    "\n",
    "- Laden Sie die Daten in ein `numpy` Array und finden Sie die Koeffizienten $A,B,C,D$ und $E$, welche die Summe der quadratischen Abweichungen ueber alle Messpunkte des Ausdrucks auf der linken Seite zur Zahl `1` minimiert.\n",
    "\n",
    "Der Kegelschnitt ist eine geschlossene Kurve, wenn $B^2-4AC<0$ gilt, eine Parabel, wenn $B^2-4AC=0$ und ansonsten eine Hyperbel.\n",
    "\n",
    "- Ist dieser Kegelschnitt eine offene oder geschlossene Kurve?\n",
    "- Zeichnen Sie alle Kurven $y=y(x)$, die die Kegelschnittgleichung erfuellen zusammen mit den Datenpunkten in ein Diagram.\n",
    "\n",
    "*Hinweis* : Sie koennen entweder Kegelschnittgleichung als quadratische Gleichung explizit nach $y$ aufloesen und beide Loesungen dort plotten, wo der Imaginaerteil gleich Null (oder sehr klein) ist, oder die matplotlib Funktion `mpl.contour(X,Y,f(X,Y),[1.0])` mit `X,Y = np.meshgrid(np.linspace(-2,2),np.linspace(-2,2))`, um die Hoehenlinie $f(X,Y)=1$ darzustellen.\n",
    "\n",
    "*Zur Erinnerung* : Die Summe der quadratischen Abweichungen eines ueberbestimmten linearen Gleichungssystems\n",
    "\n",
    "$$\n",
    "    \\mathrm{A}(\\vec{x},\\vec{y}) \\vec{c} = \\vec{b}\n",
    "$$\n",
    "wird durch die Loesung des kleineren linearen Gleichungssystems\n",
    "\n",
    "$$\n",
    "    \\mathrm{A}^\\top\\mathrm{A} \\vec{c} = \\mathrm{A}^\\top\\vec{b}\n",
    "$$\n",
    "minimiert."
   ]
  },
  {
   "cell_type": "code",
   "execution_count": 66,
   "metadata": {
    "collapsed": true
   },
   "outputs": [],
   "source": [
    "from pylab import *\n",
    "%matplotlib inline\n",
    "from random import randint\n",
    "from time import*\n",
    "import random"
   ]
  },
  {
   "cell_type": "code",
   "execution_count": null,
   "metadata": {},
   "outputs": [],
   "source": [
    "\n"
   ]
  },
  {
   "cell_type": "code",
   "execution_count": 25,
   "metadata": {},
   "outputs": [],
   "source": [
    "type(time())\n",
    "t=(time())"
   ]
  },
  {
   "cell_type": "code",
   "execution_count": 85,
   "metadata": {},
   "outputs": [
    {
     "name": "stdout",
     "output_type": "stream",
     "text": [
      "                   A  B  C  D  E   Abstand\n",
      "Zwischenergebnis: 8 14 5 -2 0 5841.66499172\n",
      "Zwischenzeit: 9.018144130706787\n",
      "                   A  B  C  D  E   Abstand\n",
      "Endergebnis: 7.095235003423811 13.19823257399707 5.3282388620014265 -2.780630323856948 -0.9099905532854609 115.891255267\n",
      "Endergebnis: 16.575647115707397\n",
      "Der Kegelschnitt ist eine offene Kurve\n"
     ]
    }
   ],
   "source": [
    "from random import randint\n",
    "from time import*\n",
    "\n",
    "#vllt. Numerische Lösung??-ist falsch:\n",
    "\n",
    "data = np.loadtxt('orbit.dat')\n",
    "h = 0                 #Laufvariabel\n",
    "n = 30                #multiplikator für die zufallszahlen\n",
    "kleinsterabstand=10000 #Definiert einen bisherig kleinsten Abstand, der dazu dient mithilfe der Formel den kleinsten Abstand von 1 zu erreichen\n",
    "abstandges = 0       #Abstand zur eins bei allen Paaren\n",
    "t = (time())         #um die Zeit zu überprüfen, die die Schleife braucht\n",
    "\n",
    "#gefundene Variabeln für ABCDE:\n",
    "Ag = 0\n",
    "Bg = 0\n",
    "Cg = 0\n",
    "Dg = 0\n",
    "Eg = 0\n",
    "\n",
    "\n",
    "while h<10000:\n",
    "    A=randint(-n,n)\n",
    "    B=randint(-n,n)\n",
    "    C=randint(-n,n)\n",
    "    D=randint(-n,n)\n",
    "    E=randint(-n,n)\n",
    "    abstandges=0     #setzt den Abstand von 1 in jeder Runde zurück\n",
    "    \n",
    "    \n",
    "    for i in range(0,199):\n",
    "        x=data[i,0]\n",
    "        y=data[i,1]\n",
    "        ergebnis=A * x**2 + B * x * y + C * y**2 + D * x + E * y #überprüft für zufällige ABCDE Variabeln die Formel\n",
    "        abstandges=abs(1-ergebnis)+abstandges #ist der gesamte Abstand von 1 für alle Gleichungen zusammen (sollte nahe der 0 liegen)\n",
    "        \n",
    "    if kleinsterabstand>abstandges:\n",
    "        kleinsterabstand=abstandges\n",
    "        Ag = A\n",
    "        Bg = B\n",
    "        Cg = C\n",
    "        Dg = D\n",
    "        Eg = E\n",
    "        \n",
    "    h=h+1\n",
    "\n",
    "print(\"                 \", \" A\", \" B\", \" C\", \" D\", \" E  \", \"Abstand\")\n",
    "print(\"Zwischenergebnis:\", Ag, Bg, Cg, Dg, Eg, abstandges)\n",
    "print(\"Zwischenzeit:\",time() - t)\n",
    "\n",
    "\n",
    "\n",
    "\n",
    "#JETZT: Gibt es Rationale Zahlen im Bereich der früheren Ergebnisse, die den Abstand noch geringer machen?:\n",
    "\n",
    "h=0\n",
    "abstandges=0\n",
    "a=Ag\n",
    "b=Bg\n",
    "c=Cg\n",
    "d=Dg\n",
    "e=Eg\n",
    "\n",
    "while h<10000:\n",
    "    #erstellt Zufallszahlen im Bereich von 1 um die jeweils gefundenen Zahlen für ABCDE \n",
    "    A = random.uniform(a+1,a-1)\n",
    "    B = random.uniform(b+1,b-1)\n",
    "    C = random.uniform(c+1,c-1) \n",
    "    D = random.uniform(d+1,d-1)\n",
    "    E = random.uniform(e+1,e-1)\n",
    "    abstandges=0     #setzt den Abstand von 1 in jeder Runde zurück\n",
    "    \n",
    "    \n",
    "    for i in range(0,199):\n",
    "        x=data[i,0]\n",
    "        y=data[i,1]\n",
    "        ergebnis=A * x**2 + B * x * y + C * y**2 + D * x + E * y #überprüft für zufällige ABCDE Variabeln die Formel\n",
    "        abstandges=abs(1-ergebnis)+abstandges #ist der gesamte Abstand von 1 für alle Gleichungen zusammen (sollte nahe der 0 liegen)\n",
    "        \n",
    "    if kleinsterabstand>abstandges:\n",
    "        kleinsterabstand=abstandges\n",
    "        Ag = A\n",
    "        Bg = B\n",
    "        Cg = C\n",
    "        Dg = D\n",
    "        Eg = E\n",
    "        \n",
    "    h=h+1\n",
    "    \n",
    "print(\"                 \", \" A\", \" B\", \" C\", \" D\", \" E  \", \"Abstand\")\n",
    "print(\"Endergebnis:\", Ag, Bg, Cg, Dg, Eg, abstandges)\n",
    "print(\"Endergebnis:\",time() - t)\n",
    "\n",
    "\n",
    "#Überprüfung: Was ist der Kegelschnitt?\n",
    "if Bg**2 - 4 * Ag * Cg < 0:\n",
    "    print(\"Der Kegelschnitt ist eine geschlossene Kurve\")\n",
    "elif B**2 - 4 * Ag * Cg == 0:\n",
    "    print(\"Der Kegelschnitt ist eine Parabel\")\n",
    "else:\n",
    "    print(\"Der Kegelschnitt ist eine offene Kurve\")\n",
    "    \n"
   ]
  },
  {
   "cell_type": "code",
   "execution_count": 87,
   "metadata": {},
   "outputs": [
    {
     "name": "stdout",
     "output_type": "stream",
     "text": [
      "Der Kegelschnitt ist eine offene Kurve\n"
     ]
    }
   ],
   "source": [
    "#Überprüfung: Was ist der Kegelschnitt?\n",
    "if Bg**2 - 4 * Ag * Cg < 0:\n",
    "    print(\"Der Kegelschnitt ist eine geschlossene Kurve\")\n",
    "elif B**2 - 4 * Ag * Cg == 0:\n",
    "    print(\"Der Kegelschnitt ist eine Parabel\")\n",
    "else:\n",
    "    print(\"Der Kegelschnitt ist eine offene Kurve\")\n"
   ]
  },
  {
   "cell_type": "code",
   "execution_count": 95,
   "metadata": {},
   "outputs": [
    {
     "data": {
      "image/png": "[encoded data removed]",
      "text/plain": [
       "<matplotlib.figure.Figure at 0x9b767c7cc0>"
      ]
     },
     "metadata": {},
     "output_type": "display_data"
    }
   ],
   "source": [
    "#Plotten der Daten\n",
    "plot(data[0:200,0], data[0:200,1],'g+',label=\"Werte der Orbit-Datei\")\n",
    "#plot(x,x,'r',label=\"y(x)\")\n",
    "legend()\n",
    "show()"
   ]
  },
  {
   "cell_type": "code",
   "execution_count": null,
   "metadata": {
    "collapsed": true
   },
   "outputs": [],
   "source": [
    "\n",
    "\n",
    "#erstellt np.array mit den Daten in 'orbit.dat'\n",
    "#data=np.loadtxt('orbit.dat')\n",
    "#Zeigt die Dimensionen der Daten an\n",
    "#print(data.shape)\n",
    "\n",
    "#a=data\n",
    "#at=data.transpose()\n",
    "#aat=(np.dot(a,at))#a*atransponiert\n",
    "\n",
    "#b=np.random.randn (200,1)\n",
    "#b[0:200]=1\n",
    "\n",
    "\n",
    "#c=np.linalg.solve(aat,b)\n",
    "#print(c)\n",
    "\n",
    "#print(c.shape)\n",
    "#plot(c)\n",
    "#show()\n",
    "#plot(data[0:200,0],data[0:200,1])\n",
    "#show()\n"
   ]
  },
  {
   "cell_type": "markdown",
   "metadata": {},
   "source": [
    "### <u>Zusatzaufgabe</u>"
   ]
  },
  {
   "cell_type": "markdown",
   "metadata": {},
   "source": [
    "- Schreiben Sie eine Funktion `polyfit(x,y,N=0)`, welche fuer `L` Datenpunkte in den Feldern `x` und `y` die Koeffizienten `c` eines Polynoms \n",
    "$$\n",
    "    y = p(x)= c_0 x^0 + c_1 x^1 + c_2 x^2 + \\dots + c_N x^N\n",
    "$$ \n",
    "`N`ten Grades findet, welches die Summe der quadratischen Abweichungen $\\sum_l (p(x_l)-y_l)^2$ minimiert.\n",
    "- Demonstrieren Sie die Funktion grafisch anhand von `L` $\\gg$ `N` Punkten eines Polynoms, welche zufaellige Abweichungen in $x$ und $y$ Richtung aufweisen. *Hinweis* : `np.random.randn(N)` generiert ein Feld mit N standard normalverteilten Zufallszahlen)\n",
    "- Finden Sie ein Polynom, welches die Daten der ersten Aufgabe gut beschreibt."
   ]
  },
  {
   "cell_type": "code",
   "execution_count": null,
   "metadata": {
    "collapsed": true
   },
   "outputs": [],
   "source": []
  }
 ],
 "metadata": {
  "kernelspec": {
   "display_name": "Python 3",
   "language": "python",
   "name": "python3"
  },
  "language_info": {
   "codemirror_mode": {
    "name": "ipython",
    "version": 3
   },
   "file_extension": ".py",
   "mimetype": "text/x-python",
   "name": "python",
   "nbconvert_exporter": "python",
   "pygments_lexer": "ipython3",
   "version": "3.6.1"
  }
 },
 "nbformat": 4,
 "nbformat_minor": 1
}
