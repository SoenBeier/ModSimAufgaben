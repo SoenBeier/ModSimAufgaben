{
 "cells": [
  {
   "cell_type": "markdown",
   "metadata": {},
   "source": [
    "## Simulation und Modellierung WS17/18 - Uebung 04"
   ]
  },
  {
   "cell_type": "markdown",
   "metadata": {},
   "source": [
    "### Aufgabe 1\n",
    "\n",
    "- Schreiben Sie eine List Comprehension, welche zu einer gegebenen ganzen Zahl `p` eine Liste aller Teiler ausser `1` und `p` erstellt.\n",
    "- Schreiben Sie eine List Comprehension, welche eine Liste aller Primzahlen mit weniger als vier Dezimalziffern erstellt.\n",
    "- Ueberpruefen Sie anhand dieser Listen, ob `377` eine Primzahl ist.\n"
   ]
  },
  {
   "cell_type": "markdown",
   "metadata": {},
   "source": [
    "### Punkt 1"
   ]
  },
  {
   "cell_type": "code",
   "execution_count": 46,
   "metadata": {},
   "outputs": [
    {
     "name": "stdout",
     "output_type": "stream",
     "text": [
      "[]\n",
      "[2, 7, 14, 43, 49, 86, 98, 301, 602, 2107]\n"
     ]
    }
   ],
   "source": [
    "def teilervonzahl(p):\n",
    "    s=[n for n in range(2,p) if p%n==0]\n",
    "    \n",
    "    return (s)\n",
    "\n",
    "print(teilervonzahl(7))#Beispiele\n",
    "print(teilervonzahl(4214))"
   ]
  },
  {
   "cell_type": "markdown",
   "metadata": {},
   "source": [
    "### Punkt 2"
   ]
  },
  {
   "cell_type": "code",
   "execution_count": null,
   "metadata": {},
   "outputs": [],
   "source": [
    "def primzahlen(Dezimalziffern):#für Dezimalziffern die gewünschte Anzahl an max Ziffern einsetzen\n",
    "    r=10**(Dezimalziffern-1)\n",
    "    prim=[i for i in range(2,r) if bool(teilervonzahl(i))==False]\n",
    "    return prim\n",
    "\n",
    "print(primzahlen(4))# Antwort für die Aufgabe: gibt Liste aller Primzahlen mit weniger als vier Dezimalziffern wieder"
   ]
  },
  {
   "cell_type": "markdown",
   "metadata": {},
   "source": [
    "### Punkt 3"
   ]
  },
  {
   "cell_type": "code",
   "execution_count": 1,
   "metadata": {},
   "outputs": [
    {
     "ename": "NameError",
     "evalue": "name 'teilervonzahl' is not defined",
     "output_type": "error",
     "traceback": [
      "\u001b[1;31m---------------------------------------------------------------------------\u001b[0m",
      "\u001b[1;31mNameError\u001b[0m                                 Traceback (most recent call last)",
      "\u001b[1;32m<ipython-input-1-421c90395c24>\u001b[0m in \u001b[0;36m<module>\u001b[1;34m()\u001b[0m\n\u001b[0;32m     11\u001b[0m         \u001b[0mprint\u001b[0m \u001b[1;33m(\u001b[0m\u001b[0mzp\u001b[0m\u001b[1;33m,\u001b[0m \u001b[1;34m\"ist keine Primzahl\"\u001b[0m\u001b[1;33m)\u001b[0m\u001b[1;33m\u001b[0m\u001b[0m\n\u001b[0;32m     12\u001b[0m \u001b[1;33m\u001b[0m\u001b[0m\n\u001b[1;32m---> 13\u001b[1;33m \u001b[0mprimzahlueberpruefungeins\u001b[0m\u001b[1;33m(\u001b[0m\u001b[1;36m377\u001b[0m\u001b[1;33m)\u001b[0m\u001b[1;31m#Ist die erste Methode zu überprüfen ob die Zahl 377 eine Primzahl ist\u001b[0m\u001b[1;33m\u001b[0m\u001b[0m\n\u001b[0m\u001b[0;32m     14\u001b[0m \u001b[0mprimzahlueberpruefungzwei\u001b[0m\u001b[1;33m(\u001b[0m\u001b[1;36m377\u001b[0m\u001b[1;33m)\u001b[0m\u001b[1;31m#Ist die zweite Methode zu überprüfen ob die Zahl 377 eine Primzahl ist, geht aber nur mit Primzahlen bis 10.000\u001b[0m\u001b[1;33m\u001b[0m\u001b[0m\n",
      "\u001b[1;32m<ipython-input-1-421c90395c24>\u001b[0m in \u001b[0;36mprimzahlueberpruefungeins\u001b[1;34m(zahlueberpruefen)\u001b[0m\n\u001b[0;32m      1\u001b[0m \u001b[1;32mdef\u001b[0m \u001b[0mprimzahlueberpruefungeins\u001b[0m\u001b[1;33m(\u001b[0m\u001b[0mzahlueberpruefen\u001b[0m\u001b[1;33m)\u001b[0m\u001b[1;33m:\u001b[0m\u001b[1;31m#mithilfe der ersten Liste\u001b[0m\u001b[1;33m\u001b[0m\u001b[0m\n\u001b[1;32m----> 2\u001b[1;33m     \u001b[1;32mif\u001b[0m \u001b[0mbool\u001b[0m\u001b[1;33m(\u001b[0m\u001b[0mteilervonzahl\u001b[0m\u001b[1;33m(\u001b[0m\u001b[0mzahlueberpruefen\u001b[0m\u001b[1;33m)\u001b[0m\u001b[1;33m)\u001b[0m\u001b[1;33m==\u001b[0m\u001b[1;32mFalse\u001b[0m\u001b[1;33m:\u001b[0m\u001b[1;33m\u001b[0m\u001b[0m\n\u001b[0m\u001b[0;32m      3\u001b[0m         \u001b[0mprint\u001b[0m \u001b[1;33m(\u001b[0m\u001b[0mzahlueberpruefen\u001b[0m\u001b[1;33m,\u001b[0m \u001b[1;34m\"ist eine Primzahl\"\u001b[0m\u001b[1;33m)\u001b[0m\u001b[1;33m\u001b[0m\u001b[0m\n\u001b[0;32m      4\u001b[0m     \u001b[1;32melse\u001b[0m\u001b[1;33m:\u001b[0m\u001b[1;33m\u001b[0m\u001b[0m\n\u001b[0;32m      5\u001b[0m         \u001b[0mprint\u001b[0m \u001b[1;33m(\u001b[0m\u001b[0mzahlueberpruefen\u001b[0m\u001b[1;33m,\u001b[0m \u001b[1;34m\"ist keine Primzahl\"\u001b[0m\u001b[1;33m)\u001b[0m\u001b[1;33m\u001b[0m\u001b[0m\n",
      "\u001b[1;31mNameError\u001b[0m: name 'teilervonzahl' is not defined"
     ]
    }
   ],
   "source": [
    "def primzahlueberpruefungeins(zahlueberpruefen):#mithilfe der ersten Liste\n",
    "    if bool(teilervonzahl(zahlueberpruefen))==False:\n",
    "        print (zahlueberpruefen, \"ist eine Primzahl\")\n",
    "    else:\n",
    "        print (zahlueberpruefen, \"ist keine Primzahl\")\n",
    "\n",
    "def primzahlueberpruefungzwei(zp):#mithilfe der zweiten Liste\n",
    "    if zp in primzahlen(5):\n",
    "        print (zp, \"ist eine Primzahl\")\n",
    "    else:\n",
    "        print (zp, \"ist keine Primzahl\")\n",
    "        \n",
    "primzahlueberpruefungeins(377)#Ist die erste Methode zu überprüfen ob die Zahl 377 eine Primzahl ist \n",
    "primzahlueberpruefungzwei(377)#Ist die zweite Methode zu überprüfen ob die Zahl 377 eine Primzahl ist, geht aber nur mit Primzahlen bis 10.000 "
   ]
  },
  {
   "cell_type": "markdown",
   "metadata": {},
   "source": [
    "### Aufgabe 2\n",
    "\n",
    "Schreiben Sie Python Code, welcher die Gleitkommazahl, welche durch eine gegebene 64 Bitfolge beschrieben wird berechnet. \n",
    "\n",
    "z.B. : `s = \"0100000001011110110111010011110000000111111011100000101100001011\"`\n",
    "\n",
    "*Hinweis :* Sie koennen eine Bitfolge `s` durch `int(s,base=2)` in eine ganze Zahl umwandeln."
   ]
  },
  {
   "cell_type": "code",
   "execution_count": null,
   "metadata": {
    "collapsed": true
   },
   "outputs": [],
   "source": []
  },
  {
   "cell_type": "code",
   "execution_count": 50,
   "metadata": {},
   "outputs": [
    {
     "name": "stdout",
     "output_type": "stream",
     "text": [
      "['nix', '0', '0', '0', '0', '1', '1', '0', '0', '1', '1', '0', '1', '1', '0', '1', '1', '0', '1', '1', '1', '0', '0', '1', '0', '0', '0', '0', '0', '1', '1', '0', '0', '1', '0', '0', '0', '0', '0', '0', '0', '0', '0', '0', '0', '0', '0', '0', '0', '0', '0', '0', '0']\n"
     ]
    },
    {
     "data": {
      "text/plain": [
       "9021350937.0"
      ]
     },
     "execution_count": 50,
     "metadata": {},
     "output_type": "execute_result"
    }
   ],
   "source": [
    "def binaerumwandler(s):\n",
    "    \n",
    "    lbz=list(s)\n",
    "    vbz=lbz[0]\n",
    "    lexp=[] #Liste der \"Exponenten-Binärzahlen\"\n",
    "    lman=[\"nix\"] #Liste der \"Mantissen-Binärzahlen\"\n",
    "    exp=0\n",
    "    man=1\n",
    "    v=1\n",
    "    for n in range(1,12) :\n",
    "        lexp.append(lbz[n])#erzeugt eine Liste mit den binärzahlen des Exponenten\n",
    "\n",
    "    for i in range(12,64):\n",
    "        lman.append(lbz[i])#erzeugt eine Liste mit denbinärzahlen der Mantisse\n",
    "    \n",
    "    for z in range(11):\n",
    "        exp=exp+int(lexp[len(lexp)-1-z])*2**z#berechnet den Exponenten\n",
    "    \n",
    "    print(lman)    \n",
    "    for q in range(1,53):\n",
    "        #print(man)\n",
    "        man=man+int(lman[q])*2**(-q)   #berechnet mantisse\n",
    "    \n",
    "    if vbz==\"1\": #klärt das vorzeichen\n",
    "        v=-1\n",
    "    else:\n",
    "        v=1\n",
    "    \n",
    "\n",
    "    return (2**(exp-1023)*man*v)#gibt die gesuchte DezimalZahl zurück/rechnet diese aus\n",
    "\n",
    "binaerumwandler(\"0100001000000000110011011011011100100000110010000000000000000000\")"
   ]
  },
  {
   "cell_type": "markdown",
   "metadata": {},
   "source": [
    "Der folgende Code fuehrt die umgekehrte Operation aus. Aus einer `float64` Gleitkommazahl wird die Bitfolge generiert, welche diese Zahl repraesentiert. Ueberpruefen Sie damit Ihre Berechnung."
   ]
  },
  {
   "cell_type": "code",
   "execution_count": 48,
   "metadata": {},
   "outputs": [
    {
     "name": "stdout",
     "output_type": "stream",
     "text": [
      "0100001000000000110011011011011100100000110010000000000000000000\n"
     ]
    }
   ],
   "source": [
    "import numpy as np \n",
    "x=9021350937         # schreiben Sie hier x=y, um die Bitfolge der float64 variable y zu erhalten\n",
    "b=np.array(x,dtype=np.float64)       # schreibt den Inhalt von x in ein Numpy array b\n",
    "b.dtype=np.int64                     # interpretiert den Inhalt von b als 64Bit ganze Zahl\n",
    "print(np.binary_repr(b,64))         # Ausgabe der Bitfolge fuer die ganze Zahl b"
   ]
  },
  {
   "cell_type": "markdown",
   "metadata": {},
   "source": [
    "### Zusatzaufgabe (+10%)"
   ]
  },
  {
   "cell_type": "markdown",
   "metadata": {},
   "source": [
    "- Schreiben Sie eine List Comprehension, welche zu zwei gegebenen ganzen Zahlen eine Liste aller gemeinsamen Teiler ausser `1` ausgibt.\n",
    "- Schreiben Sie eine List Comprehension, welche eine Liste mit teilerfremden Paaren `(p,q)` von positiven ganzen Zahlen mit jeweils genau einer Dezimalziffer erzeugt.\n",
    "- Schreiben Sie eine List Comprehension welche alle Paare `((p0,q0),(p1,q1))` aus einer Liste von Paaren `(p,q)` heraussucht, fuer die $p_0\\ne p_1$ und $\\frac{p_0}{q_0} = \\frac{p_1}{q_1}$ gilt. Welches Ergebnis erhalten Sie, wenn Sie diese List Comprehension ueber die Liste der teilerfremden Paare laufen lassen?"
   ]
  },
  {
   "cell_type": "code",
   "execution_count": null,
   "metadata": {
    "collapsed": true
   },
   "outputs": [],
   "source": []
  },
  {
   "cell_type": "code",
   "execution_count": null,
   "metadata": {
    "collapsed": true
   },
   "outputs": [],
   "source": []
  },
  {
   "cell_type": "markdown",
   "metadata": {},
   "source": [
    "------------------\n",
    "**nuetzliche Keyboard shotcuts**\n",
    "\n",
    "|              |               |\n",
    "|--------------|---------------|\n",
    "| `Esc`        | Kommando Modus   |\n",
    "| `Enter`      | Editier Modus    |\n",
    "|`Shift-Enter` | ausfuehren, Zelle darunter auswaehlen |\n",
    "|`Ctrl-Enter`  | ausfuehren, selbe Zelle auswaehlen    |\n",
    "|`Alt-Enter`   | ausfuehren, Zelle darunter einfuegen |\n",
    "| `b`          | Zelle unterhalb einfuegen |\n",
    "| `a`          | Zelle ueberhalb einfuegen |\n",
    "| `dd`          | Zelle loeschen |\n",
    "| `z`          | Zelle loeschen rueckgaengig machen |\n",
    "\n",
    "---------------------"
   ]
  }
 ],
 "metadata": {
  "kernelspec": {
   "display_name": "Python 3",
   "language": "python",
   "name": "python3"
  },
  "language_info": {
   "codemirror_mode": {
    "name": "ipython",
    "version": 3
   },
   "file_extension": ".py",
   "mimetype": "text/x-python",
   "name": "python",
   "nbconvert_exporter": "python",
   "pygments_lexer": "ipython3",
   "version": "3.6.1"
  }
 },
 "nbformat": 4,
 "nbformat_minor": 1
}
