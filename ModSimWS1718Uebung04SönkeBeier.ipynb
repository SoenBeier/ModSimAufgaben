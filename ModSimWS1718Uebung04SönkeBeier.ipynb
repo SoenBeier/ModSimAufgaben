{
 "cells": [
  {
   "cell_type": "markdown",
   "metadata": {},
   "source": [
    "## Simulation und Modellierung WS17/18 - Uebung 04"
   ]
  },
  {
   "cell_type": "markdown",
   "metadata": {},
   "source": [
    "### Aufgabe 1\n",
    "\n",
    "- Schreiben Sie eine List Comprehension, welche zu einer gegebenen ganzen Zahl `p` eine Liste aller Teiler ausser `1` und `p` erstellt.\n",
    "- Schreiben Sie eine List Comprehension, welche eine Liste aller Primzahlen mit weniger als vier Dezimalziffern erstellt.\n",
    "- Ueberpruefen Sie anhand dieser Listen, ob `377` eine Primzahl ist.\n"
   ]
  },
  {
   "cell_type": "markdown",
   "metadata": {},
   "source": [
    "### Punkt 1"
   ]
  },
  {
   "cell_type": "code",
   "execution_count": 48,
   "metadata": {},
   "outputs": [
    {
     "name": "stdout",
     "output_type": "stream",
     "text": [
      "[2, 4, -2, -4]\n",
      "[2, 7, 14, 43, 49, 86, 98, 301, 602, 2107, -2, -7, -14, -43, -49, -86, -98, -301, -602, -2107]\n",
      "[]\n"
     ]
    }
   ],
   "source": [
    "def teilervonzahl(p):\n",
    "    if p<0:\n",
    "        p=-p\n",
    "    s=[n for n in range(2,p) if p%n==0]\n",
    "    for q in range(0,len(s)):\n",
    "        s.append(-s[q])\n",
    "    if p==0:\n",
    "        s=[]\n",
    "        s.append(\"jede Zahl\")\n",
    "    return (s)\n",
    "\n",
    "print(teilervonzahl(8))#Beispiele\n",
    "print(teilervonzahl(-4214))\n",
    "print(teilervonzahl(7))\n"
   ]
  },
  {
   "cell_type": "markdown",
   "metadata": {},
   "source": [
    "### Punkt 2"
   ]
  },
  {
   "cell_type": "code",
   "execution_count": 49,
   "metadata": {},
   "outputs": [
    {
     "name": "stdout",
     "output_type": "stream",
     "text": [
      "[2, 3, 5, 7, 11, 13, 17, 19, 23, 29, 31, 37, 41, 43, 47, 53, 59, 61, 67, 71, 73, 79, 83, 89, 97, 101, 103, 107, 109, 113, 127, 131, 137, 139, 149, 151, 157, 163, 167, 173, 179, 181, 191, 193, 197, 199, 211, 223, 227, 229, 233, 239, 241, 251, 257, 263, 269, 271, 277, 281, 283, 293, 307, 311, 313, 317, 331, 337, 347, 349, 353, 359, 367, 373, 379, 383, 389, 397, 401, 409, 419, 421, 431, 433, 439, 443, 449, 457, 461, 463, 467, 479, 487, 491, 499, 503, 509, 521, 523, 541, 547, 557, 563, 569, 571, 577, 587, 593, 599, 601, 607, 613, 617, 619, 631, 641, 643, 647, 653, 659, 661, 673, 677, 683, 691, 701, 709, 719, 727, 733, 739, 743, 751, 757, 761, 769, 773, 787, 797, 809, 811, 821, 823, 827, 829, 839, 853, 857, 859, 863, 877, 881, 883, 887, 907, 911, 919, 929, 937, 941, 947, 953, 967, 971, 977, 983, 991, 997]\n"
     ]
    }
   ],
   "source": [
    "def primzahlen(Dezimalziffern):#für Dezimalziffern die gewünschte Anzahl an max Ziffern einsetzen\n",
    "    r=10**(Dezimalziffern-1)\n",
    "    prim=[i for i in range(2,r) if bool(teilervonzahl(i))==False]\n",
    "    \n",
    "    return prim\n",
    "\n",
    "print(primzahlen(4))# Antwort für die Aufgabe: gibt Liste aller Primzahlen mit weniger als vier Dezimalziffern wieder"
   ]
  },
  {
   "cell_type": "markdown",
   "metadata": {},
   "source": [
    "### Punkt 3"
   ]
  },
  {
   "cell_type": "code",
   "execution_count": 50,
   "metadata": {},
   "outputs": [
    {
     "name": "stdout",
     "output_type": "stream",
     "text": [
      "377 ist keine Primzahl\n"
     ]
    },
    {
     "data": {
      "text/plain": [
       "False"
      ]
     },
     "execution_count": 50,
     "metadata": {},
     "output_type": "execute_result"
    }
   ],
   "source": [
    "def primzahlueberpruefungeins(zahlueberpruefen):#mithilfe der ersten Liste, funktioniert nicht mit negativen Zahlen\n",
    "    if bool(teilervonzahl(zahlueberpruefen))==False:\n",
    "       # print (zahlueberpruefen, \"ist eine Primzahl\")\n",
    "        return True\n",
    "    else:\n",
    "        #print (zahlueberpruefen, \"ist keine Primzahl\")\n",
    "        return False\n",
    "\n",
    "def primzahlueberpruefungzwei(zp):\n",
    "    if zp in primzahlen(5):\n",
    "        #print (zp, \"ist eine Primzahl\")\n",
    "        return True\n",
    "    else:\n",
    "        #print (zp, \"ist keine Primzahl\")\n",
    "        return False\n",
    "\n",
    "def primzahlüberprüfung(zp):\n",
    "    if primzahlueberpruefungeins(zp) and primzahlueberpruefungzwei(zp)==True:\n",
    "        print (zp, \"ist eine Primzahl\")\n",
    "        return True\n",
    "    else:\n",
    "        print (zp, \"ist keine Primzahl\")\n",
    "        return False\n",
    "\n",
    "primzahlüberprüfung(377) "
   ]
  },
  {
   "cell_type": "markdown",
   "metadata": {},
   "source": [
    "### Aufgabe 2\n",
    "\n",
    "Schreiben Sie Python Code, welcher die Gleitkommazahl, welche durch eine gegebene 64 Bitfolge beschrieben wird berechnet. \n",
    "\n",
    "z.B. : `s = \"0100000001011110110111010011110000000111111011100000101100001011\"`\n",
    "\n",
    "*Hinweis :* Sie koennen eine Bitfolge `s` durch `int(s,base=2)` in eine ganze Zahl umwandeln."
   ]
  },
  {
   "cell_type": "code",
   "execution_count": null,
   "metadata": {
    "collapsed": true
   },
   "outputs": [],
   "source": []
  },
  {
   "cell_type": "code",
   "execution_count": 51,
   "metadata": {},
   "outputs": [
    {
     "data": {
      "text/plain": [
       "9021350937.0"
      ]
     },
     "execution_count": 51,
     "metadata": {},
     "output_type": "execute_result"
    }
   ],
   "source": [
    "def binaerumwandler(s):\n",
    "    \n",
    "    lbz=list(s)\n",
    "    vbz=lbz[0]\n",
    "    lexp=[] #Liste der \"Exponenten-Binärzahlen\"\n",
    "    lman=[\"nix\"] #Liste der \"Mantissen-Binärzahlen\"\n",
    "    exp=0\n",
    "    man=1\n",
    "    v=1\n",
    "    for n in range(1,12) :\n",
    "        lexp.append(lbz[n])#erzeugt eine Liste mit den binärzahlen des Exponenten\n",
    "\n",
    "    for i in range(12,64):\n",
    "        lman.append(lbz[i])#erzeugt eine Liste mit denbinärzahlen der Mantisse\n",
    "    \n",
    "    for z in range(11):\n",
    "        exp=exp+int(lexp[len(lexp)-1-z])*2**z#berechnet den Exponenten\n",
    "    \n",
    "    \n",
    "    for q in range(1,53):\n",
    "        #print(man)\n",
    "        man=man+int(lman[q])*2**(-q)   #berechnet mantisse\n",
    "    \n",
    "    if vbz==\"1\": #klärt das vorzeichen\n",
    "        v=-1\n",
    "    else:\n",
    "        v=1\n",
    "    \n",
    "\n",
    "    return (2**(exp-1023)*man*v)#gibt die gesuchte DezimalZahl zurück/rechnet diese aus\n",
    "\n",
    "binaerumwandler(\"0100001000000000110011011011011100100000110010000000000000000000\")"
   ]
  },
  {
   "cell_type": "markdown",
   "metadata": {},
   "source": [
    "Der folgende Code fuehrt die umgekehrte Operation aus. Aus einer `float64` Gleitkommazahl wird die Bitfolge generiert, welche diese Zahl repraesentiert. Ueberpruefen Sie damit Ihre Berechnung."
   ]
  },
  {
   "cell_type": "code",
   "execution_count": 52,
   "metadata": {},
   "outputs": [
    {
     "name": "stdout",
     "output_type": "stream",
     "text": [
      "0100001000000000110011011011011100100000110010000000000000000000\n"
     ]
    }
   ],
   "source": [
    "import numpy as np \n",
    "x=9021350937         # schreiben Sie hier x=y, um die Bitfolge der float64 variable y zu erhalten\n",
    "b=np.array(x,dtype=np.float64)       # schreibt den Inhalt von x in ein Numpy array b\n",
    "b.dtype=np.int64                     # interpretiert den Inhalt von b als 64Bit ganze Zahl\n",
    "print(np.binary_repr(b,64))         # Ausgabe der Bitfolge fuer die ganze Zahl b"
   ]
  },
  {
   "cell_type": "markdown",
   "metadata": {},
   "source": [
    "### Zusatzaufgabe (+10%)"
   ]
  },
  {
   "cell_type": "markdown",
   "metadata": {},
   "source": [
    "- Schreiben Sie eine List Comprehension, welche zu zwei gegebenen ganzen Zahlen eine Liste aller gemeinsamen Teiler ausser `1` ausgibt.\n",
    "- Schreiben Sie eine List Comprehension, welche eine Liste mit teilerfremden Paaren `(p,q)` von positiven ganzen Zahlen mit jeweils genau einer Dezimalziffer erzeugt.\n",
    "- Schreiben Sie eine List Comprehension welche alle Paare `((p0,q0),(p1,q1))` aus einer Liste von Paaren `(p,q)` heraussucht, fuer die $p_0\\ne p_1$ und $\\frac{p_0}{q_0} = \\frac{p_1}{q_1}$ gilt. Welches Ergebnis erhalten Sie, wenn Sie diese List Comprehension ueber die Liste der teilerfremden Paare laufen lassen?"
   ]
  },
  {
   "cell_type": "code",
   "execution_count": 53,
   "metadata": {},
   "outputs": [
    {
     "data": {
      "text/plain": [
       "[2, 4, -2, -4, 8, -8]"
      ]
     },
     "execution_count": 53,
     "metadata": {},
     "output_type": "execute_result"
    }
   ],
   "source": [
    "def gemeinsameTeiler(p,q):#Lösung zum Teil 1\n",
    "    ltp= teilervonzahl(p)#liste der Teiler von p\n",
    "    ltq= teilervonzahl(q)#liste der Teiler von q\n",
    "    \n",
    "    maxi= max(p,q)\n",
    "    tpq=[i for i in range(2,maxi) if i in ltp and i in ltq]#erstellt Liste mit Teiler von p und q\n",
    "    \n",
    "    for r in range(0,len(tpq)):\n",
    "        tpq.append(-tpq[r]) #fügt die negativen Teiler hinzu\n",
    "        \n",
    "    if p in ltq:#überprüft ob p ein Teiler von q ist\n",
    "        tpq.append(p)#wenn ja dann wird zu tpq p hinzugefügt\n",
    "        tpq.append(-p)\n",
    "        \n",
    "    if q in ltp:# überprüft ob q ein Teiler von p ist\n",
    "        tpq.append(q)#wenn ja dann wird zu tpq q hinzugefügt\n",
    "        tpq.append(-q)\n",
    "    return tpq\n",
    "\n",
    "gemeinsameTeiler(8,16)#Beispiel"
   ]
  },
  {
   "cell_type": "code",
   "execution_count": 54,
   "metadata": {},
   "outputs": [],
   "source": [
    "#def pteilervonq(p,q):\n",
    "#    if p in teilervonzahl(q)\n",
    "#    return (True)\n",
    "#\n",
    "#def teilerfremdepaarevon10bis99:\n",
    "#    s=[]\n",
    "#    for n in range (10,100):\n",
    "#        for i in range (10,100):\n",
    "#            if pteilervonq(i,n)==False:\n",
    "#                s.append(i,n)\n",
    "                \n",
    "                "
   ]
  },
  {
   "cell_type": "code",
   "execution_count": null,
   "metadata": {
    "collapsed": true
   },
   "outputs": [],
   "source": []
  },
  {
   "cell_type": "markdown",
   "metadata": {},
   "source": [
    "------------------\n",
    "**nuetzliche Keyboard shotcuts**\n",
    "\n",
    "|              |               |\n",
    "|--------------|---------------|\n",
    "| `Esc`        | Kommando Modus   |\n",
    "| `Enter`      | Editier Modus    |\n",
    "|`Shift-Enter` | ausfuehren, Zelle darunter auswaehlen |\n",
    "|`Ctrl-Enter`  | ausfuehren, selbe Zelle auswaehlen    |\n",
    "|`Alt-Enter`   | ausfuehren, Zelle darunter einfuegen |\n",
    "| `b`          | Zelle unterhalb einfuegen |\n",
    "| `a`          | Zelle ueberhalb einfuegen |\n",
    "| `dd`          | Zelle loeschen |\n",
    "| `z`          | Zelle loeschen rueckgaengig machen |\n",
    "\n",
    "---------------------"
   ]
  }
 ],
 "metadata": {
  "kernelspec": {
   "display_name": "Python 3",
   "language": "python",
   "name": "python3"
  },
  "language_info": {
   "codemirror_mode": {
    "name": "ipython",
    "version": 3
   },
   "file_extension": ".py",
   "mimetype": "text/x-python",
   "name": "python",
   "nbconvert_exporter": "python",
   "pygments_lexer": "ipython3",
   "version": "3.6.1"
  }
 },
 "nbformat": 4,
 "nbformat_minor": 1
}
